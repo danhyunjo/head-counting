{
 "cells": [
  {
   "cell_type": "code",
   "execution_count": null,
   "metadata": {},
   "outputs": [],
   "source": [
    "!git clone https://github.com/abewley/sort.git"
   ]
  },
  {
   "cell_type": "code",
   "execution_count": null,
   "metadata": {
    "jupyter": {
     "is_executing": true
    }
   },
   "outputs": [],
   "source": [
    "import torch\n",
    "from torchvision import transforms\n",
    "from PIL import Image"
   ]
  },
  {
   "cell_type": "code",
   "execution_count": null,
   "metadata": {},
   "outputs": [],
   "source": [
    "import numpy as np\n",
    "from ultralytics import YOLO\n",
    "import cv2\n",
    "import math\n",
    "from sort.sort import *\n",
    "\n",
    "cap = cv2.VideoCapture(\"input_auto_cycle.mp4\")\n",
    "fourcc = cv2.VideoWriter_fourcc(*'XVID')\n",
    "out = cv2.VideoWriter('output_auto.avi', fourcc, 20.0, (int(cap.get(3)), int(cap.get(4))))\n",
    "\n",
    "model = YOLO(\"yolov8l.pt\", verbose=False)\n",
    "\n",
    "# 클래스 목록 생략\n",
    "classNames = [\"person\", \"bicycle\", \"car\", \"motorbike\", \"aeroplane\", \"bus\", \"train\", \"truck\", \"boat\",\n",
    "              \"traffic light\", \"fire hydrant\", \"stop sign\", \"parking meter\", \"bench\", \"bird\", \"cat\",\n",
    "              \"dog\", \"horse\", \"sheep\", \"cow\", \"elephant\", \"bear\", \"zebra\", \"giraffe\", \"backpack\", \"umbrella\",\n",
    "              \"handbag\", \"tie\", \"suitcase\", \"frisbee\", \"skis\", \"snowboard\", \"sports ball\", \"kite\", \"baseball bat\",\n",
    "              \"baseball glove\", \"skateboard\", \"surfboard\", \"tennis racket\", \"bottle\", \"wine glass\", \"cup\",\n",
    "              \"fork\", \"knife\", \"spoon\", \"bowl\", \"banana\", \"apple\", \"sandwich\", \"orange\", \"broccoli\",\n",
    "              \"carrot\", \"hot dog\", \"pizza\", \"donut\", \"cake\", \"chair\", \"sofa\", \"pottedplant\", \"bed\",\n",
    "              \"diningtable\", \"toilet\", \"tvmonitor\", \"laptop\", \"mouse\", \"remote\", \"keyboard\", \"cell phone\",\n",
    "              \"microwave\", \"oven\", \"toaster\", \"sink\", \"refrigerator\", \"book\", \"clock\", \"vase\", \"scissors\",\n",
    "              \"teddy bear\", \"hair drier\", \"toothbrush\"\n",
    "              ]\n",
    "\n",
    "\n",
    "# Tracking\n",
    "tracker = Sort(max_age=60, min_hits=3, iou_threshold=0.1)\n",
    "\n",
    "limitsUp = [500, 350, 900, 350]\n",
    "limitsDown = [450, 450, 1000, 450]\n",
    "\n",
    "\n",
    "totalCountUp = []\n",
    "totalCountDown = []\n",
    "last_line_result = []\n",
    "last_line_crossed = {}\n",
    "\n",
    "# 배경 포함 텍스트 출력 함수\n",
    "def put_text_with_background(img, text, org, font=cv2.FONT_HERSHEY_SIMPLEX,\n",
    "                             scale=0.7, text_color=(255, 255, 255), bg_color=(0, 0, 0),\n",
    "                             thickness=2, padding=4):\n",
    "    (text_w, text_h), _ = cv2.getTextSize(text, font, scale, thickness)\n",
    "    x, y = org\n",
    "    cv2.rectangle(img, (x - padding, y - text_h - padding),\n",
    "                  (x + text_w + padding, y + padding), bg_color, -1)\n",
    "    cv2.putText(img, text, (x, y), font, scale, text_color, thickness, cv2.LINE_AA)\n",
    "\n",
    "while True:\n",
    "    success, img = cap.read()\n",
    "    if not success:\n",
    "        break\n",
    "\n",
    "    results = model(img, stream=True)\n",
    "    detections = np.empty((0, 5))\n",
    "\n",
    "    for r in results:\n",
    "        for box in r.boxes:\n",
    "            x1, y1, x2, y2 = map(int, box.xyxy[0])\n",
    "            conf = math.ceil((box.conf[0] * 100)) / 100\n",
    "            cls = int(box.cls[0])\n",
    "            currentClass = classNames[cls]\n",
    "\n",
    "            if currentClass == \"person\" and conf > 0.2:\n",
    "                currentArray = np.array([x1, y1, x2, y2, conf])\n",
    "                detections = np.vstack((detections, currentArray))\n",
    "\n",
    "    resultsTracker = tracker.update(detections)\n",
    "\n",
    "    cv2.line(img, tuple(limitsUp[:2]), tuple(limitsUp[2:]), (0, 100, 255), 2, cv2.LINE_AA)\n",
    "    cv2.line(img, tuple(limitsDown[:2]), tuple(limitsDown[2:]), (0, 0, 255), 2, cv2.LINE_AA)\n",
    "\n",
    "    for result in resultsTracker:\n",
    "        x1, y1, x2, y2, id = map(int, result)\n",
    "        w, h = x2 - x1, y2 - y1\n",
    "        cx, cy = x1 + w // 2, y1 + h // 2\n",
    "\n",
    "        # 바운딩 박스\n",
    "        cv2.rectangle(img, (x1, y1), (x2, y2), (255, 255, 255), 2)\n",
    "        put_text_with_background(img, f'ID {int(id)}', (x1, y1 - 10))\n",
    "\n",
    "        cv2.circle(img, (cx, cy), 5, (255, 0, 255), cv2.FILLED)\n",
    "\n",
    "        # 선 통과 감지\n",
    "        if limitsDown[0] < cx < limitsDown[2] and abs(cy - limitsDown[1]) < 15:\n",
    "            if id in last_line_crossed and last_line_crossed[id] == 'up':\n",
    "                totalCountDown.append(id)\n",
    "            if id not in last_line_crossed or last_line_crossed[id] == 'up':\n",
    "                last_line_crossed[id] = 'down'\n",
    "                last_line_result.append(last_line_crossed)\n",
    "\n",
    "        if limitsUp[0] < cx < limitsUp[2] and abs(cy - limitsUp[1]) < 15:\n",
    "            if id in last_line_crossed and last_line_crossed[id] == 'down':\n",
    "                totalCountUp.append(id)\n",
    "            if id not in last_line_crossed or last_line_crossed[id] == 'down':\n",
    "                \n",
    "                last_line_crossed[id] = 'up'\n",
    "                last_line_result.append(last_line_crossed)\n",
    "\n",
    "    # UI 박스\n",
    "    cv2.rectangle(img, (30, 30), (330, 130), (0, 0, 0), -1)\n",
    "    cv2.putText(img, f\"Up Count: {len(totalCountUp)}\", (45, 75), cv2.FONT_HERSHEY_SIMPLEX, 1, (0, 200, 255), 2)\n",
    "    cv2.putText(img, f\"Down Count: {len(totalCountDown)}\", (45, 115), cv2.FONT_HERSHEY_SIMPLEX, 1, (0, 100, 255), 2)\n",
    "\n",
    "    out.write(img)\n",
    "    cv2.imshow(\"Image\", img)\n",
    "    cv2.waitKey(1)\n",
    "\n",
    "print(last_line_result)\n",
    "\n",
    "cap.release()\n",
    "out.release()\n",
    "cv2.destroyAllWindows()\n"
   ]
  },
  {
   "cell_type": "code",
   "execution_count": null,
   "metadata": {},
   "outputs": [],
   "source": []
  },
  {
   "cell_type": "code",
   "execution_count": null,
   "metadata": {},
   "outputs": [],
   "source": []
  },
  {
   "cell_type": "code",
   "execution_count": null,
   "metadata": {},
   "outputs": [],
   "source": []
  },
  {
   "cell_type": "code",
   "execution_count": null,
   "metadata": {},
   "outputs": [],
   "source": []
  },
  {
   "cell_type": "code",
   "execution_count": null,
   "metadata": {},
   "outputs": [],
   "source": []
  },
  {
   "cell_type": "code",
   "execution_count": null,
   "metadata": {},
   "outputs": [],
   "source": []
  },
  {
   "cell_type": "code",
   "execution_count": null,
   "metadata": {},
   "outputs": [],
   "source": []
  },
  {
   "cell_type": "code",
   "execution_count": null,
   "metadata": {},
   "outputs": [],
   "source": []
  },
  {
   "cell_type": "code",
   "execution_count": null,
   "metadata": {},
   "outputs": [],
   "source": []
  },
  {
   "cell_type": "code",
   "execution_count": null,
   "metadata": {},
   "outputs": [],
   "source": []
  },
  {
   "cell_type": "code",
   "execution_count": null,
   "metadata": {},
   "outputs": [],
   "source": []
  },
  {
   "cell_type": "code",
   "execution_count": null,
   "metadata": {},
   "outputs": [],
   "source": []
  },
  {
   "cell_type": "code",
   "execution_count": null,
   "metadata": {},
   "outputs": [],
   "source": []
  },
  {
   "cell_type": "code",
   "execution_count": null,
   "metadata": {},
   "outputs": [],
   "source": []
  }
 ],
 "metadata": {
  "kernelspec": {
   "display_name": "fitcam",
   "language": "python",
   "name": "python3"
  },
  "language_info": {
   "codemirror_mode": {
    "name": "ipython",
    "version": 3
   },
   "file_extension": ".py",
   "mimetype": "text/x-python",
   "name": "python",
   "nbconvert_exporter": "python",
   "pygments_lexer": "ipython3",
   "version": "3.10.16"
  }
 },
 "nbformat": 4,
 "nbformat_minor": 2
}
